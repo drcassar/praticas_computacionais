{
 "cells": [
  {
   "cell_type": "markdown",
   "id": "17b641bd-57c2-4c08-b8d3-e023fa0881a8",
   "metadata": {},
   "source": [
    "# Capítulo [número]\n",
    "\n",
    "Nome: Fulano Ciclano\n",
    "\n",
    "Data: DIA/MÊS/ANO"
   ]
  },
  {
   "cell_type": "markdown",
   "id": "542d310a-5964-4f09-883d-a4c6512467cd",
   "metadata": {
    "tags": []
   },
   "source": [
    "## Seção [número]"
   ]
  },
  {
   "cell_type": "markdown",
   "id": "00b00819-9c54-4c27-be0a-d811a157ff13",
   "metadata": {
    "tags": []
   },
   "source": [
    "### Prática A"
   ]
  },
  {
   "cell_type": "markdown",
   "id": "c941a056-7b70-40ba-9986-35081de8401d",
   "metadata": {},
   "source": [
    "(Use quantas células de texto e de código forem necessárias para resolver a prática)"
   ]
  },
  {
   "cell_type": "code",
   "execution_count": null,
   "id": "fd39d64a-9a1c-4ca1-9cfc-7311a7fc3fc4",
   "metadata": {
    "tags": []
   },
   "outputs": [],
   "source": []
  },
  {
   "cell_type": "markdown",
   "id": "acedcfb7-1b5f-4d62-88d8-efd401223493",
   "metadata": {},
   "source": [
    "#### Resposta\n",
    "\n",
    "(A última célula de cada prática deve ser esta célula de texto contendo o cabeçalho \"#### Resposta\" e a sua resposta)"
   ]
  },
  {
   "cell_type": "markdown",
   "id": "0dc2ac3a-c5c3-4b32-815d-8e88fd96491d",
   "metadata": {},
   "source": [
    "### Prática B"
   ]
  },
  {
   "cell_type": "code",
   "execution_count": null,
   "id": "6391fad3-f5a0-4150-a2f3-a551f573fa0a",
   "metadata": {},
   "outputs": [],
   "source": []
  },
  {
   "cell_type": "markdown",
   "id": "2f4b23bc-9b88-4b4d-8585-f8d0ffb2a751",
   "metadata": {},
   "source": [
    "#### Resposta"
   ]
  },
  {
   "cell_type": "markdown",
   "id": "8b4b6239-4d77-4c0d-bd5e-a67f3d84b580",
   "metadata": {},
   "source": [
    "## Diário de bordo"
   ]
  },
  {
   "cell_type": "markdown",
   "id": "ad0fe6e2-c314-4c69-bcba-eca13bbe71d3",
   "metadata": {},
   "source": [
    "A última célula do seu caderno de notas é reservada para o diário de bordo. Este espaço serve para você refletir sobre a prática, avaliando as atividades que foram realizadas e refletindo sobre seu desempenho e aprendizado. O formato e o conteúdo do seu diário de bordo são livres. \n",
    "\n",
    "Se quiser, conte quais foram suas facilidades ou dificuldades para realizar a prática. Pode contar também sobre o que achou interessante ou desinteressante nesta prática. Fique à vontade para escrever sobre tópicos, textos, ou vídeos que encontrou durante suas buscas para resolver as questões."
   ]
  }
 ],
 "metadata": {
  "kernelspec": {
   "display_name": "Python 3 (ipykernel)",
   "language": "python",
   "name": "python3"
  },
  "language_info": {
   "codemirror_mode": {
    "name": "ipython",
    "version": 3
   },
   "file_extension": ".py",
   "mimetype": "text/x-python",
   "name": "python",
   "nbconvert_exporter": "python",
   "pygments_lexer": "ipython3",
   "version": "3.10.2"
  }
 },
 "nbformat": 4,
 "nbformat_minor": 5
}
