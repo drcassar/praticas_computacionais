{
 "cells": [
  {
   "cell_type": "markdown",
   "id": "17b641bd-57c2-4c08-b8d3-e023fa0881a8",
   "metadata": {},
   "source": [
    "# Capítulo [número]\n",
    "\n",
    "Nome: Fulana de Tal\n",
    "\n",
    "RM: [número]\n",
    "\n",
    "Data: DIA/MÊS/ANO"
   ]
  },
  {
   "cell_type": "markdown",
   "id": "6c18d981-e08b-4510-b75c-0078124e66d7",
   "metadata": {
    "tags": []
   },
   "source": [
    "## Regras para o preenchimento do Caderno de Respostas\n",
    "\n",
    "+ __Leia com atenção as regras abaixo antes de iniciar suas práticas!__\n",
    "+ Preencha o número do capítulo, seu nome, seu RM e a data na primeira célula deste caderno de notas\n",
    "+ Crie uma célula de texto com cabeçalho nível 2 (isto é, usando duas hashtags ##) para cada seção referente ao capítulo deste caderno. Veja os exemplos abaixo\n",
    "+ Crie uma célula de texto com cabeçalho nível 3 (isto é, usando três hashtags ###) para cada prática\n",
    "+ Use quantas células de texto e código forem necessárias para cada prática. Não se esqueça de colocar a letra da prática\n",
    "+ Caso queira testar algum código qualquer, use a seção Playground que está no final do caderno. Ela não será considerada para sua nota\n",
    "+ Práticas que pedem que você escreva algo devem conter uma célula de texto onde você elabora sua resposta\n",
    "+ A última célula do caderno é o seu Diário de Bordo. Ele é muito importante para a avaliação da disciplina. Mais informações estão lá no final do caderno \n",
    "+ Não se esqueça de salvar periodicamente seu caderno de respostas\n",
    "+ Antes de enviar seu caderno de respostas, renomeie ele de forma que tenha seu nome, sobrenome e o número do capítulo. Por exemplo, o caderno de respostas do capítulo 3 da aluna Fulana de Tal o nome ficaria: Fulana_Tal_Capitulo_03"
   ]
  },
  {
   "cell_type": "markdown",
   "id": "542d310a-5964-4f09-883d-a4c6512467cd",
   "metadata": {
    "tags": []
   },
   "source": [
    "## Seção [número]"
   ]
  },
  {
   "cell_type": "markdown",
   "id": "00b00819-9c54-4c27-be0a-d811a157ff13",
   "metadata": {
    "tags": []
   },
   "source": [
    "### Prática A"
   ]
  },
  {
   "cell_type": "code",
   "execution_count": null,
   "id": "fd39d64a-9a1c-4ca1-9cfc-7311a7fc3fc4",
   "metadata": {
    "tags": []
   },
   "outputs": [],
   "source": []
  },
  {
   "cell_type": "markdown",
   "id": "0dc2ac3a-c5c3-4b32-815d-8e88fd96491d",
   "metadata": {},
   "source": [
    "### Prática B"
   ]
  },
  {
   "cell_type": "code",
   "execution_count": null,
   "id": "6391fad3-f5a0-4150-a2f3-a551f573fa0a",
   "metadata": {},
   "outputs": [],
   "source": []
  },
  {
   "cell_type": "markdown",
   "id": "dc968f98-cec8-4212-893d-ac254e90001e",
   "metadata": {},
   "source": [
    "## Seção [número]"
   ]
  },
  {
   "cell_type": "markdown",
   "id": "428e4ad8-9357-409d-acf1-b1dba53a4a47",
   "metadata": {},
   "source": [
    "### Prática A"
   ]
  },
  {
   "cell_type": "code",
   "execution_count": null,
   "id": "f058923f-ffdb-4269-8966-85db96480efd",
   "metadata": {},
   "outputs": [],
   "source": []
  },
  {
   "cell_type": "markdown",
   "id": "b629d656-8812-432d-a3eb-249c2cbf1791",
   "metadata": {},
   "source": [
    "### Prática B"
   ]
  },
  {
   "cell_type": "code",
   "execution_count": null,
   "id": "c299e140-083d-43a4-8967-854df2daa131",
   "metadata": {},
   "outputs": [],
   "source": []
  },
  {
   "cell_type": "markdown",
   "id": "97bb5b2d-956b-49f8-964a-1f79303007f5",
   "metadata": {},
   "source": [
    "## Playground"
   ]
  },
  {
   "cell_type": "code",
   "execution_count": null,
   "id": "d3bf893d-6075-4f40-a2d9-8bf6065c4057",
   "metadata": {},
   "outputs": [],
   "source": []
  },
  {
   "cell_type": "markdown",
   "id": "8b4b6239-4d77-4c0d-bd5e-a67f3d84b580",
   "metadata": {},
   "source": [
    "## Diário de Bordo"
   ]
  },
  {
   "cell_type": "markdown",
   "id": "ad0fe6e2-c314-4c69-bcba-eca13bbe71d3",
   "metadata": {},
   "source": [
    "A última célula do seu caderno de notas é reservada para o Diário de Bordo. Este espaço serve para você refletir sobre a prática, avaliando as atividades que foram realizadas e refletindo sobre seu desempenho e aprendizado. O formato e o conteúdo do seu Diário de Bordo são livres. \n",
    "\n",
    "Se quiser, conte quais foram suas facilidades ou dificuldades para realizar a prática. Pode contar também sobre o que achou interessante ou desinteressante nesta prática. Fique à vontade para escrever sobre tópicos, textos ou vídeos que encontrou durante suas buscas para resolver as questões."
   ]
  },
  {
   "cell_type": "markdown",
   "id": "cc157b8a-a06d-4b50-9d50-26e5b931cc9b",
   "metadata": {},
   "source": []
  }
 ],
 "metadata": {
  "kernelspec": {
   "display_name": "Python 3 (ipykernel)",
   "language": "python",
   "name": "python3"
  },
  "language_info": {
   "codemirror_mode": {
    "name": "ipython",
    "version": 3
   },
   "file_extension": ".py",
   "mimetype": "text/x-python",
   "name": "python",
   "nbconvert_exporter": "python",
   "pygments_lexer": "ipython3",
   "version": "3.9.5"
  }
 },
 "nbformat": 4,
 "nbformat_minor": 5
}
